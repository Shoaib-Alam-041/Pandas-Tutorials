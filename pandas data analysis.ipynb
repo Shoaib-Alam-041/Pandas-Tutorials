{
 "cells": [
  {
   "cell_type": "code",
   "execution_count": 2,
   "id": "ab66d630",
   "metadata": {},
   "outputs": [
    {
     "name": "stdout",
     "output_type": "stream",
     "text": [
      "        age      City\n",
      "name                 \n",
      "shoaib   20  New York\n",
      "bilal    30    London\n",
      "israr    50     Paris\n"
     ]
    }
   ],
   "source": [
    "import pandas as pd\n",
    "data = {\"name\": [\"shoaib\",\"bilal\",\"israr\"],\n",
    "       \"age\":[20,30,50],\n",
    "       'City': ['New York', 'London', 'Paris']}\n",
    "#setting index\n",
    "dataframe=pd.DataFrame(data)\n",
    "dataframe.set_index(\"name\",inplace=True)\n",
    "#inplace=True: replace the default index\n",
    "print(dataframe)"
   ]
  },
  {
   "cell_type": "code",
   "execution_count": null,
   "id": "ac79e78a",
   "metadata": {},
   "outputs": [],
   "source": [
    "# Accessing the rows through indexing"
   ]
  },
  {
   "cell_type": "code",
   "execution_count": 4,
   "id": "7f38d51f",
   "metadata": {},
   "outputs": [
    {
     "name": "stdout",
     "output_type": "stream",
     "text": [
      "age           20\n",
      "City    New York\n",
      "Name: shoaib, dtype: object\n"
     ]
    }
   ],
   "source": [
    "row=dataframe.iloc[0]\n",
    "print(row)"
   ]
  },
  {
   "cell_type": "code",
   "execution_count": null,
   "id": "5a8402f4",
   "metadata": {},
   "outputs": [],
   "source": [
    "#Making An Array"
   ]
  },
  {
   "cell_type": "code",
   "execution_count": 5,
   "id": "c5606ab9",
   "metadata": {},
   "outputs": [
    {
     "name": "stdout",
     "output_type": "stream",
     "text": [
      "<IntegerArray>\n",
      "[1, 2, 3, 4, 5]\n",
      "Length: 5, dtype: Int64\n"
     ]
    }
   ],
   "source": [
    "data1=[1,2,3,4,5]\n",
    "array1=pd.array(data1)\n",
    "print(array1)"
   ]
  },
  {
   "cell_type": "code",
   "execution_count": null,
   "id": "33a0c836",
   "metadata": {},
   "outputs": [],
   "source": [
    "#For large data sets print() is unable so we use head(), tail() and info()"
   ]
  },
  {
   "cell_type": "code",
   "execution_count": 8,
   "id": "315e9a56",
   "metadata": {},
   "outputs": [
    {
     "name": "stdout",
     "output_type": "stream",
     "text": [
      "    Name  Age      City\n",
      "0   John   25  New York\n",
      "1  Alice   30     Paris\n",
      "2    Bob   35    London\n",
      "\n",
      "    Name  Age      City\n",
      "0   John   25  New York\n",
      "1  Alice   30     Paris\n",
      "2    Bob   35    London\n",
      "3   Emma   28    Sydney\n",
      "4   Mike   32     Tokyo\n",
      "<class 'pandas.core.frame.DataFrame'>\n",
      "RangeIndex: 10 entries, 0 to 9\n",
      "Data columns (total 3 columns):\n",
      " #   Column  Non-Null Count  Dtype \n",
      "---  ------  --------------  ----- \n",
      " 0   Name    10 non-null     object\n",
      " 1   Age     10 non-null     int64 \n",
      " 2   City    10 non-null     object\n",
      "dtypes: int64(1), object(2)\n",
      "memory usage: 372.0+ bytes\n",
      "None\n"
     ]
    }
   ],
   "source": [
    "# create a dataframe\n",
    "data = {'Name': ['John', 'Alice', 'Bob', 'Emma', 'Mike', 'Sarah', 'David', 'Linda', 'Tom', 'Emily'],\n",
    "        'Age': [25, 30, 35, 28, 32, 27, 40, 33, 29, 31],\n",
    "        'City': ['New York', 'Paris', 'London', 'Sydney', 'Tokyo', 'Berlin', 'Rome', 'Madrid', 'Toronto', 'Moscow']}\n",
    "df = pd.DataFrame(data)\n",
    "\n",
    "#first 3 lines\n",
    "print(df.head(3))\n",
    "print()\n",
    "\n",
    "#as a default it takes 5 lines \n",
    "print(df.head())\n",
    "\n",
    "#tail is same as head but takes last lines\n",
    "\n",
    "#info() gives overall info.\n",
    "print(df.info())"
   ]
  },
  {
   "cell_type": "code",
   "execution_count": 53,
   "id": "5c4db9ee",
   "metadata": {},
   "outputs": [
    {
     "data": {
      "text/html": [
       "<div>\n",
       "<style scoped>\n",
       "    .dataframe tbody tr th:only-of-type {\n",
       "        vertical-align: middle;\n",
       "    }\n",
       "\n",
       "    .dataframe tbody tr th {\n",
       "        vertical-align: top;\n",
       "    }\n",
       "\n",
       "    .dataframe thead th {\n",
       "        text-align: right;\n",
       "    }\n",
       "</style>\n",
       "<table border=\"1\" class=\"dataframe\">\n",
       "  <thead>\n",
       "    <tr style=\"text-align: right;\">\n",
       "      <th></th>\n",
       "      <th>roll nom.</th>\n",
       "      <th>marks</th>\n",
       "    </tr>\n",
       "    <tr>\n",
       "      <th>name</th>\n",
       "      <th></th>\n",
       "      <th></th>\n",
       "    </tr>\n",
       "  </thead>\n",
       "  <tbody>\n",
       "    <tr>\n",
       "      <th>shoaib</th>\n",
       "      <td>12</td>\n",
       "      <td>234</td>\n",
       "    </tr>\n",
       "    <tr>\n",
       "      <th>bilal</th>\n",
       "      <td>43</td>\n",
       "      <td>234</td>\n",
       "    </tr>\n",
       "    <tr>\n",
       "      <th>israr</th>\n",
       "      <td>56</td>\n",
       "      <td>236</td>\n",
       "    </tr>\n",
       "  </tbody>\n",
       "</table>\n",
       "</div>"
      ],
      "text/plain": [
       "        roll nom.  marks\n",
       "name                    \n",
       "shoaib         12    234\n",
       "bilal          43    234\n",
       "israr          56    236"
      ]
     },
     "execution_count": 53,
     "metadata": {},
     "output_type": "execute_result"
    }
   ],
   "source": [
    "import pandas as pd\n",
    "data1=pd.read_excel(r\"D:\\OneDrive\\Desktop\\data analysis.xlsx\")\n",
    "data1\n",
    "data1.set_index(\"name\",inplace=True)\n",
    "data1"
   ]
  },
  {
   "cell_type": "code",
   "execution_count": 15,
   "id": "158f0411",
   "metadata": {},
   "outputs": [
    {
     "name": "stdout",
     "output_type": "stream",
     "text": [
      "        roll nom.  marks\n",
      "name                    \n",
      "shoaib         12    234\n",
      "bilal          43    234\n",
      "israr          56    236\n",
      "haroon         12    345\n"
     ]
    }
   ],
   "source": [
    "#add new row\n",
    "data1.loc[\"haroon\"]=[12,345]\n",
    "print(data1)"
   ]
  },
  {
   "cell_type": "code",
   "execution_count": 28,
   "id": "d56c177b",
   "metadata": {},
   "outputs": [
    {
     "data": {
      "text/html": [
       "<div>\n",
       "<style scoped>\n",
       "    .dataframe tbody tr th:only-of-type {\n",
       "        vertical-align: middle;\n",
       "    }\n",
       "\n",
       "    .dataframe tbody tr th {\n",
       "        vertical-align: top;\n",
       "    }\n",
       "\n",
       "    .dataframe thead th {\n",
       "        text-align: right;\n",
       "    }\n",
       "</style>\n",
       "<table border=\"1\" class=\"dataframe\">\n",
       "  <thead>\n",
       "    <tr style=\"text-align: right;\">\n",
       "      <th></th>\n",
       "      <th>roll nom.</th>\n",
       "      <th>marks</th>\n",
       "      <th>class</th>\n",
       "    </tr>\n",
       "    <tr>\n",
       "      <th>name</th>\n",
       "      <th></th>\n",
       "      <th></th>\n",
       "      <th></th>\n",
       "    </tr>\n",
       "  </thead>\n",
       "  <tbody>\n",
       "    <tr>\n",
       "      <th>shoaib</th>\n",
       "      <td>12</td>\n",
       "      <td>234</td>\n",
       "      <td>4th</td>\n",
       "    </tr>\n",
       "    <tr>\n",
       "      <th>bilal</th>\n",
       "      <td>43</td>\n",
       "      <td>234</td>\n",
       "      <td>3rd</td>\n",
       "    </tr>\n",
       "    <tr>\n",
       "      <th>israr</th>\n",
       "      <td>56</td>\n",
       "      <td>236</td>\n",
       "      <td>5th</td>\n",
       "    </tr>\n",
       "    <tr>\n",
       "      <th>haroon</th>\n",
       "      <td>19</td>\n",
       "      <td>23</td>\n",
       "      <td>34</td>\n",
       "    </tr>\n",
       "  </tbody>\n",
       "</table>\n",
       "</div>"
      ],
      "text/plain": [
       "        roll nom.  marks class\n",
       "name                          \n",
       "shoaib         12    234   4th\n",
       "bilal          43    234   3rd\n",
       "israr          56    236   5th\n",
       "haroon         19     23    34"
      ]
     },
     "execution_count": 28,
     "metadata": {},
     "output_type": "execute_result"
    }
   ],
   "source": [
    "#add new column\n",
    "data1.loc[\"haroon\"]=[19,23,34]\n",
    "data1\n",
    "#for the modification of existing row ussi row ka name likh dp aur data pass krdo"
   ]
  },
  {
   "cell_type": "code",
   "execution_count": 19,
   "id": "06573dd7",
   "metadata": {},
   "outputs": [
    {
     "data": {
      "text/html": [
       "<div>\n",
       "<style scoped>\n",
       "    .dataframe tbody tr th:only-of-type {\n",
       "        vertical-align: middle;\n",
       "    }\n",
       "\n",
       "    .dataframe tbody tr th {\n",
       "        vertical-align: top;\n",
       "    }\n",
       "\n",
       "    .dataframe thead th {\n",
       "        text-align: right;\n",
       "    }\n",
       "</style>\n",
       "<table border=\"1\" class=\"dataframe\">\n",
       "  <thead>\n",
       "    <tr style=\"text-align: right;\">\n",
       "      <th></th>\n",
       "      <th>roll nom.</th>\n",
       "      <th>marks</th>\n",
       "      <th>class</th>\n",
       "    </tr>\n",
       "    <tr>\n",
       "      <th>name</th>\n",
       "      <th></th>\n",
       "      <th></th>\n",
       "      <th></th>\n",
       "    </tr>\n",
       "  </thead>\n",
       "  <tbody>\n",
       "    <tr>\n",
       "      <th>shoaib</th>\n",
       "      <td>12</td>\n",
       "      <td>234</td>\n",
       "      <td>4th</td>\n",
       "    </tr>\n",
       "    <tr>\n",
       "      <th>bilal</th>\n",
       "      <td>43</td>\n",
       "      <td>234</td>\n",
       "      <td>3rd</td>\n",
       "    </tr>\n",
       "    <tr>\n",
       "      <th>israr</th>\n",
       "      <td>56</td>\n",
       "      <td>236</td>\n",
       "      <td>5th</td>\n",
       "    </tr>\n",
       "    <tr>\n",
       "      <th>haroon</th>\n",
       "      <td>19</td>\n",
       "      <td>19</td>\n",
       "      <td>6th</td>\n",
       "    </tr>\n",
       "  </tbody>\n",
       "</table>\n",
       "</div>"
      ],
      "text/plain": [
       "        roll nom.  marks class\n",
       "name                          \n",
       "shoaib         12    234   4th\n",
       "bilal          43    234   3rd\n",
       "israr          56    236   5th\n",
       "haroon         19     19   6th"
      ]
     },
     "execution_count": 19,
     "metadata": {},
     "output_type": "execute_result"
    }
   ],
   "source": [
    "data1[\"class\"]=[\"4th\",\"3rd\",\"5th\",\"6th\"]\n",
    "data1"
   ]
  },
  {
   "cell_type": "code",
   "execution_count": 47,
   "id": "a5dd8d79",
   "metadata": {
    "scrolled": false
   },
   "outputs": [
    {
     "data": {
      "text/html": [
       "<div>\n",
       "<style scoped>\n",
       "    .dataframe tbody tr th:only-of-type {\n",
       "        vertical-align: middle;\n",
       "    }\n",
       "\n",
       "    .dataframe tbody tr th {\n",
       "        vertical-align: top;\n",
       "    }\n",
       "\n",
       "    .dataframe thead th {\n",
       "        text-align: right;\n",
       "    }\n",
       "</style>\n",
       "<table border=\"1\" class=\"dataframe\">\n",
       "  <thead>\n",
       "    <tr style=\"text-align: right;\">\n",
       "      <th></th>\n",
       "      <th>roll nom.</th>\n",
       "      <th>marks</th>\n",
       "      <th>class</th>\n",
       "    </tr>\n",
       "    <tr>\n",
       "      <th>name</th>\n",
       "      <th></th>\n",
       "      <th></th>\n",
       "      <th></th>\n",
       "    </tr>\n",
       "  </thead>\n",
       "  <tbody>\n",
       "    <tr>\n",
       "      <th>israr</th>\n",
       "      <td>56</td>\n",
       "      <td>236</td>\n",
       "      <td>5th</td>\n",
       "    </tr>\n",
       "    <tr>\n",
       "      <th>haroon</th>\n",
       "      <td>19</td>\n",
       "      <td>23</td>\n",
       "      <td>34</td>\n",
       "    </tr>\n",
       "  </tbody>\n",
       "</table>\n",
       "</div>"
      ],
      "text/plain": [
       "        roll nom.  marks class\n",
       "name                          \n",
       "israr          56    236   5th\n",
       "haroon         19     23    34"
      ]
     },
     "execution_count": 47,
     "metadata": {},
     "output_type": "execute_result"
    }
   ],
   "source": [
    "#remove row\n",
    "data1.drop(\"israr\")\n",
    "data1"
   ]
  },
  {
   "cell_type": "code",
   "execution_count": 48,
   "id": "44181440",
   "metadata": {},
   "outputs": [
    {
     "data": {
      "text/html": [
       "<div>\n",
       "<style scoped>\n",
       "    .dataframe tbody tr th:only-of-type {\n",
       "        vertical-align: middle;\n",
       "    }\n",
       "\n",
       "    .dataframe tbody tr th {\n",
       "        vertical-align: top;\n",
       "    }\n",
       "\n",
       "    .dataframe thead th {\n",
       "        text-align: right;\n",
       "    }\n",
       "</style>\n",
       "<table border=\"1\" class=\"dataframe\">\n",
       "  <thead>\n",
       "    <tr style=\"text-align: right;\">\n",
       "      <th></th>\n",
       "      <th>roll nom.</th>\n",
       "      <th>marks</th>\n",
       "    </tr>\n",
       "    <tr>\n",
       "      <th>name</th>\n",
       "      <th></th>\n",
       "      <th></th>\n",
       "    </tr>\n",
       "  </thead>\n",
       "  <tbody>\n",
       "    <tr>\n",
       "      <th>israr</th>\n",
       "      <td>56</td>\n",
       "      <td>236</td>\n",
       "    </tr>\n",
       "    <tr>\n",
       "      <th>haroon</th>\n",
       "      <td>19</td>\n",
       "      <td>23</td>\n",
       "    </tr>\n",
       "  </tbody>\n",
       "</table>\n",
       "</div>"
      ],
      "text/plain": [
       "        roll nom.  marks\n",
       "name                    \n",
       "israr          56    236\n",
       "haroon         19     23"
      ]
     },
     "execution_count": 48,
     "metadata": {},
     "output_type": "execute_result"
    }
   ],
   "source": [
    "#remove column\n",
    "data1.drop(\"class\",axis=1)\n",
    "#axis 0 = rows\n",
    "#axis 1= columns"
   ]
  },
  {
   "cell_type": "code",
   "execution_count": 50,
   "id": "cc00ecb1",
   "metadata": {},
   "outputs": [
    {
     "data": {
      "text/html": [
       "<div>\n",
       "<style scoped>\n",
       "    .dataframe tbody tr th:only-of-type {\n",
       "        vertical-align: middle;\n",
       "    }\n",
       "\n",
       "    .dataframe tbody tr th {\n",
       "        vertical-align: top;\n",
       "    }\n",
       "\n",
       "    .dataframe thead th {\n",
       "        text-align: right;\n",
       "    }\n",
       "</style>\n",
       "<table border=\"1\" class=\"dataframe\">\n",
       "  <thead>\n",
       "    <tr style=\"text-align: right;\">\n",
       "      <th></th>\n",
       "      <th>roll nom.</th>\n",
       "      <th>points</th>\n",
       "      <th>class</th>\n",
       "    </tr>\n",
       "    <tr>\n",
       "      <th>name</th>\n",
       "      <th></th>\n",
       "      <th></th>\n",
       "      <th></th>\n",
       "    </tr>\n",
       "  </thead>\n",
       "  <tbody>\n",
       "    <tr>\n",
       "      <th>israr</th>\n",
       "      <td>56</td>\n",
       "      <td>236</td>\n",
       "      <td>5th</td>\n",
       "    </tr>\n",
       "    <tr>\n",
       "      <th>haroon</th>\n",
       "      <td>19</td>\n",
       "      <td>23</td>\n",
       "      <td>34</td>\n",
       "    </tr>\n",
       "  </tbody>\n",
       "</table>\n",
       "</div>"
      ],
      "text/plain": [
       "        roll nom.  points class\n",
       "name                           \n",
       "israr          56     236   5th\n",
       "haroon         19      23    34"
      ]
     },
     "execution_count": 50,
     "metadata": {},
     "output_type": "execute_result"
    }
   ],
   "source": [
    "#rename columns\n",
    "data1.rename(columns={\"marks\":\"points\"},inplace=True)\n",
    "data1"
   ]
  },
  {
   "cell_type": "code",
   "execution_count": 52,
   "id": "f7e17cda",
   "metadata": {},
   "outputs": [
    {
     "data": {
      "text/html": [
       "<div>\n",
       "<style scoped>\n",
       "    .dataframe tbody tr th:only-of-type {\n",
       "        vertical-align: middle;\n",
       "    }\n",
       "\n",
       "    .dataframe tbody tr th {\n",
       "        vertical-align: top;\n",
       "    }\n",
       "\n",
       "    .dataframe thead th {\n",
       "        text-align: right;\n",
       "    }\n",
       "</style>\n",
       "<table border=\"1\" class=\"dataframe\">\n",
       "  <thead>\n",
       "    <tr style=\"text-align: right;\">\n",
       "      <th></th>\n",
       "      <th>roll nom.</th>\n",
       "      <th>points</th>\n",
       "      <th>class</th>\n",
       "    </tr>\n",
       "    <tr>\n",
       "      <th>name</th>\n",
       "      <th></th>\n",
       "      <th></th>\n",
       "      <th></th>\n",
       "    </tr>\n",
       "  </thead>\n",
       "  <tbody>\n",
       "    <tr>\n",
       "      <th>israr</th>\n",
       "      <td>56</td>\n",
       "      <td>236</td>\n",
       "      <td>5th</td>\n",
       "    </tr>\n",
       "    <tr>\n",
       "      <th>khan</th>\n",
       "      <td>19</td>\n",
       "      <td>23</td>\n",
       "      <td>34</td>\n",
       "    </tr>\n",
       "  </tbody>\n",
       "</table>\n",
       "</div>"
      ],
      "text/plain": [
       "       roll nom.  points class\n",
       "name                          \n",
       "israr         56     236   5th\n",
       "khan          19      23    34"
      ]
     },
     "execution_count": 52,
     "metadata": {},
     "output_type": "execute_result"
    }
   ],
   "source": [
    "#rename rows\n",
    "#default\n",
    "data1.rename({\"haroon\":\"khan\"},inplace=True)\n",
    "data1"
   ]
  },
  {
   "cell_type": "markdown",
   "id": "afebd484",
   "metadata": {},
   "source": [
    "# remove empty cells row"
   ]
  },
  {
   "cell_type": "code",
   "execution_count": 3,
   "id": "b6f5364d",
   "metadata": {},
   "outputs": [
    {
     "data": {
      "text/html": [
       "<div>\n",
       "<style scoped>\n",
       "    .dataframe tbody tr th:only-of-type {\n",
       "        vertical-align: middle;\n",
       "    }\n",
       "\n",
       "    .dataframe tbody tr th {\n",
       "        vertical-align: top;\n",
       "    }\n",
       "\n",
       "    .dataframe thead th {\n",
       "        text-align: right;\n",
       "    }\n",
       "</style>\n",
       "<table border=\"1\" class=\"dataframe\">\n",
       "  <thead>\n",
       "    <tr style=\"text-align: right;\">\n",
       "      <th></th>\n",
       "      <th>name</th>\n",
       "      <th>roll nom.</th>\n",
       "      <th>marks</th>\n",
       "    </tr>\n",
       "  </thead>\n",
       "  <tbody>\n",
       "    <tr>\n",
       "      <th>0</th>\n",
       "      <td>shoaib</td>\n",
       "      <td>12</td>\n",
       "      <td>234</td>\n",
       "    </tr>\n",
       "    <tr>\n",
       "      <th>1</th>\n",
       "      <td>bilal</td>\n",
       "      <td>43</td>\n",
       "      <td>234</td>\n",
       "    </tr>\n",
       "    <tr>\n",
       "      <th>2</th>\n",
       "      <td>israr</td>\n",
       "      <td>56</td>\n",
       "      <td>236</td>\n",
       "    </tr>\n",
       "  </tbody>\n",
       "</table>\n",
       "</div>"
      ],
      "text/plain": [
       "     name  roll nom.  marks\n",
       "0  shoaib         12    234\n",
       "1   bilal         43    234\n",
       "2   israr         56    236"
      ]
     },
     "execution_count": 3,
     "metadata": {},
     "output_type": "execute_result"
    }
   ],
   "source": [
    "import pandas as pd\n",
    "data1=pd.read_excel(r\"D:\\OneDrive\\Desktop\\data analysis.xlsx\")\n",
    "#removing empty cell row\n",
    "data1.dropna(inplace=True)\n",
    "data1\n",
    "#didn't effect original data\n",
    "data1.dropna()"
   ]
  },
  {
   "cell_type": "markdown",
   "id": "809911c7",
   "metadata": {},
   "source": [
    "# Replace empty cells with values"
   ]
  },
  {
   "cell_type": "code",
   "execution_count": null,
   "id": "3f08555b",
   "metadata": {},
   "outputs": [],
   "source": [
    "#replce empty cell with value\n",
    "data1.fillna(130,inplace=True)\n",
    "#specified column\n",
    "data1[\"column name\"].fillna(130)\n"
   ]
  },
  {
   "cell_type": "code",
   "execution_count": 4,
   "id": "955ce96a",
   "metadata": {},
   "outputs": [
    {
     "data": {
      "text/html": [
       "<div>\n",
       "<style scoped>\n",
       "    .dataframe tbody tr th:only-of-type {\n",
       "        vertical-align: middle;\n",
       "    }\n",
       "\n",
       "    .dataframe tbody tr th {\n",
       "        vertical-align: top;\n",
       "    }\n",
       "\n",
       "    .dataframe thead th {\n",
       "        text-align: right;\n",
       "    }\n",
       "</style>\n",
       "<table border=\"1\" class=\"dataframe\">\n",
       "  <thead>\n",
       "    <tr style=\"text-align: right;\">\n",
       "      <th></th>\n",
       "      <th>name</th>\n",
       "      <th>calories</th>\n",
       "      <th>protein</th>\n",
       "      <th>carbon</th>\n",
       "      <th>hydrogen</th>\n",
       "    </tr>\n",
       "  </thead>\n",
       "  <tbody>\n",
       "    <tr>\n",
       "      <th>0</th>\n",
       "      <td>shoaib</td>\n",
       "      <td>40</td>\n",
       "      <td>34</td>\n",
       "      <td>43</td>\n",
       "      <td>22.0</td>\n",
       "    </tr>\n",
       "    <tr>\n",
       "      <th>1</th>\n",
       "      <td>bilal</td>\n",
       "      <td>NaN</td>\n",
       "      <td>34</td>\n",
       "      <td>34</td>\n",
       "      <td>33.0</td>\n",
       "    </tr>\n",
       "    <tr>\n",
       "      <th>2</th>\n",
       "      <td>israr</td>\n",
       "      <td>78</td>\n",
       "      <td>re</td>\n",
       "      <td>23</td>\n",
       "      <td>44.0</td>\n",
       "    </tr>\n",
       "    <tr>\n",
       "      <th>3</th>\n",
       "      <td>khan</td>\n",
       "      <td>56</td>\n",
       "      <td>56</td>\n",
       "      <td>67</td>\n",
       "      <td>55.0</td>\n",
       "    </tr>\n",
       "    <tr>\n",
       "      <th>4</th>\n",
       "      <td>alam</td>\n",
       "      <td>45</td>\n",
       "      <td>43</td>\n",
       "      <td>65</td>\n",
       "      <td>66.0</td>\n",
       "    </tr>\n",
       "    <tr>\n",
       "      <th>5</th>\n",
       "      <td>sher</td>\n",
       "      <td>40</td>\n",
       "      <td>77</td>\n",
       "      <td>45</td>\n",
       "      <td>NaN</td>\n",
       "    </tr>\n",
       "    <tr>\n",
       "      <th>6</th>\n",
       "      <td>haroon</td>\n",
       "      <td>9</td>\n",
       "      <td>43</td>\n",
       "      <td>87</td>\n",
       "      <td>77.0</td>\n",
       "    </tr>\n",
       "    <tr>\n",
       "      <th>7</th>\n",
       "      <td>niazi</td>\n",
       "      <td>7</td>\n",
       "      <td>98</td>\n",
       "      <td>77</td>\n",
       "      <td>89.0</td>\n",
       "    </tr>\n",
       "    <tr>\n",
       "      <th>8</th>\n",
       "      <td>khan</td>\n",
       "      <td>nnn</td>\n",
       "      <td>0</td>\n",
       "      <td>9</td>\n",
       "      <td>76.0</td>\n",
       "    </tr>\n",
       "    <tr>\n",
       "      <th>9</th>\n",
       "      <td>sher</td>\n",
       "      <td>456</td>\n",
       "      <td>87</td>\n",
       "      <td>85</td>\n",
       "      <td>56.0</td>\n",
       "    </tr>\n",
       "  </tbody>\n",
       "</table>\n",
       "</div>"
      ],
      "text/plain": [
       "     name calories protein  carbon  hydrogen\n",
       "0  shoaib       40      34      43      22.0\n",
       "1   bilal      NaN      34      34      33.0\n",
       "2   israr       78      re      23      44.0\n",
       "3    khan       56      56      67      55.0\n",
       "4    alam       45      43      65      66.0\n",
       "5    sher       40      77      45       NaN\n",
       "6  haroon        9      43      87      77.0\n",
       "7   niazi        7      98      77      89.0\n",
       "8    khan      nnn       0       9      76.0\n",
       "9    sher      456      87      85      56.0"
      ]
     },
     "execution_count": 4,
     "metadata": {},
     "output_type": "execute_result"
    }
   ],
   "source": [
    "import pandas as pd\n",
    "pp1=pd.read_excel(\"D:\\OneDrive\\Desktop\\practice.xlsx\")\n",
    "pp1"
   ]
  },
  {
   "cell_type": "markdown",
   "id": "c822aa82",
   "metadata": {},
   "source": [
    "# Mean Mode Median"
   ]
  },
  {
   "cell_type": "code",
   "execution_count": 9,
   "id": "0c7616af",
   "metadata": {},
   "outputs": [
    {
     "data": {
      "text/html": [
       "<div>\n",
       "<style scoped>\n",
       "    .dataframe tbody tr th:only-of-type {\n",
       "        vertical-align: middle;\n",
       "    }\n",
       "\n",
       "    .dataframe tbody tr th {\n",
       "        vertical-align: top;\n",
       "    }\n",
       "\n",
       "    .dataframe thead th {\n",
       "        text-align: right;\n",
       "    }\n",
       "</style>\n",
       "<table border=\"1\" class=\"dataframe\">\n",
       "  <thead>\n",
       "    <tr style=\"text-align: right;\">\n",
       "      <th></th>\n",
       "      <th>name</th>\n",
       "      <th>calories</th>\n",
       "      <th>protein</th>\n",
       "      <th>carbon</th>\n",
       "      <th>hydrogen</th>\n",
       "    </tr>\n",
       "  </thead>\n",
       "  <tbody>\n",
       "    <tr>\n",
       "      <th>0</th>\n",
       "      <td>shoaib</td>\n",
       "      <td>40</td>\n",
       "      <td>34</td>\n",
       "      <td>43</td>\n",
       "      <td>22.000000</td>\n",
       "    </tr>\n",
       "    <tr>\n",
       "      <th>1</th>\n",
       "      <td>bilal</td>\n",
       "      <td>NaN</td>\n",
       "      <td>34</td>\n",
       "      <td>34</td>\n",
       "      <td>33.000000</td>\n",
       "    </tr>\n",
       "    <tr>\n",
       "      <th>2</th>\n",
       "      <td>israr</td>\n",
       "      <td>78</td>\n",
       "      <td>re</td>\n",
       "      <td>23</td>\n",
       "      <td>44.000000</td>\n",
       "    </tr>\n",
       "    <tr>\n",
       "      <th>3</th>\n",
       "      <td>khan</td>\n",
       "      <td>56</td>\n",
       "      <td>56</td>\n",
       "      <td>67</td>\n",
       "      <td>55.000000</td>\n",
       "    </tr>\n",
       "    <tr>\n",
       "      <th>4</th>\n",
       "      <td>alam</td>\n",
       "      <td>45</td>\n",
       "      <td>43</td>\n",
       "      <td>65</td>\n",
       "      <td>66.000000</td>\n",
       "    </tr>\n",
       "    <tr>\n",
       "      <th>5</th>\n",
       "      <td>sher</td>\n",
       "      <td>40</td>\n",
       "      <td>77</td>\n",
       "      <td>45</td>\n",
       "      <td>57.555556</td>\n",
       "    </tr>\n",
       "    <tr>\n",
       "      <th>6</th>\n",
       "      <td>haroon</td>\n",
       "      <td>9</td>\n",
       "      <td>43</td>\n",
       "      <td>87</td>\n",
       "      <td>77.000000</td>\n",
       "    </tr>\n",
       "    <tr>\n",
       "      <th>7</th>\n",
       "      <td>niazi</td>\n",
       "      <td>7</td>\n",
       "      <td>98</td>\n",
       "      <td>77</td>\n",
       "      <td>89.000000</td>\n",
       "    </tr>\n",
       "    <tr>\n",
       "      <th>8</th>\n",
       "      <td>khan</td>\n",
       "      <td>nnn</td>\n",
       "      <td>0</td>\n",
       "      <td>9</td>\n",
       "      <td>76.000000</td>\n",
       "    </tr>\n",
       "    <tr>\n",
       "      <th>9</th>\n",
       "      <td>sher</td>\n",
       "      <td>456</td>\n",
       "      <td>87</td>\n",
       "      <td>85</td>\n",
       "      <td>56.000000</td>\n",
       "    </tr>\n",
       "  </tbody>\n",
       "</table>\n",
       "</div>"
      ],
      "text/plain": [
       "     name calories protein  carbon   hydrogen\n",
       "0  shoaib       40      34      43  22.000000\n",
       "1   bilal      NaN      34      34  33.000000\n",
       "2   israr       78      re      23  44.000000\n",
       "3    khan       56      56      67  55.000000\n",
       "4    alam       45      43      65  66.000000\n",
       "5    sher       40      77      45  57.555556\n",
       "6  haroon        9      43      87  77.000000\n",
       "7   niazi        7      98      77  89.000000\n",
       "8    khan      nnn       0       9  76.000000\n",
       "9    sher      456      87      85  56.000000"
      ]
     },
     "execution_count": 9,
     "metadata": {},
     "output_type": "execute_result"
    }
   ],
   "source": [
    "mea1=pp1[\"hydrogen\"].mean()\n",
    "pp1[\"hydrogen\"].fillna(mea1,inplace=True)\n",
    "pp1"
   ]
  },
  {
   "cell_type": "code",
   "execution_count": null,
   "id": "54c7f3f4",
   "metadata": {},
   "outputs": [],
   "source": [
    "#use .loc for name access\n",
    "#use .iloc for index access\n",
    "#access row by name\n",
    "row=data['name of row']\n",
    "#access row by index\n",
    "row=data.iloc[0]\n",
    "#access column by name\n",
    "column=data[\"name of column\"]\n",
    "#by index\n",
    "column=data.iloc[0]\n",
    "#access multiple columns\n",
    "column=data[['Rank','Name']]\n",
    "column"
   ]
  },
  {
   "cell_type": "code",
   "execution_count": null,
   "id": "748ddd89",
   "metadata": {},
   "outputs": [],
   "source": [
    "data.dropna(axis=0) #for row\n",
    "data.dropna(axis=1) #for column\n",
    "data.dropna(subset=[\"Rank\",\"Name\"],inplace=True)\n",
    "data.head(15)"
   ]
  },
  {
   "cell_type": "code",
   "execution_count": null,
   "id": "426aaf97",
   "metadata": {},
   "outputs": [],
   "source": [
    "#checking null values\n",
    "data.isnull().sum()\n",
    "data.columnname.value_counts()\n",
    "data.columnname.unique()"
   ]
  },
  {
   "cell_type": "code",
   "execution_count": null,
   "id": "998e78b9",
   "metadata": {},
   "outputs": [],
   "source": [
    "data.column.replace('Not Provided',np.nan)\n",
    "data.columnname=pd.to_numeric(data.columnname,errors='coerce')"
   ]
  }
 ],
 "metadata": {
  "kernelspec": {
   "display_name": "Python 3 (ipykernel)",
   "language": "python",
   "name": "python3"
  },
  "language_info": {
   "codemirror_mode": {
    "name": "ipython",
    "version": 3
   },
   "file_extension": ".py",
   "mimetype": "text/x-python",
   "name": "python",
   "nbconvert_exporter": "python",
   "pygments_lexer": "ipython3",
   "version": "3.11.5"
  }
 },
 "nbformat": 4,
 "nbformat_minor": 5
}
